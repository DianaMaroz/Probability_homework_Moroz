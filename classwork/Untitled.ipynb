{
 "cells": [
  {
   "cell_type": "code",
   "execution_count": 33,
   "id": "64a2acc7",
   "metadata": {},
   "outputs": [],
   "source": [
    "import matplotlib.pyplot as plt\n",
    "import numpy as np\n",
    "from scipy import stats\n",
    "from scipy.stats import bartlett\n",
    "from statsmodels.stats.multicomp import pairwise_tukeyhsd \n",
    "import pandas as pd"
   ]
  },
  {
   "cell_type": "code",
   "execution_count": 4,
   "id": "48ba5291",
   "metadata": {
    "scrolled": true
   },
   "outputs": [],
   "source": [
    "pu_238 = np.array([0.126, 0.133, 0.127, 0.156, 0.503, 0.113, 0.129, 0.124, 1.022, 1.412, 1.533, 1.534, 1.437, 1.439, 1.375, 1.153, 0.201, 0.176, 0.239, 0.102, 1.070, 0.851, 0.125, 0.142, 0.352, 0.351, 0.346, 0.217, 1.068, 1.171, 1.213, 1.226, 1.111, 0.183, 0.162, 0.113, 1.309, 1.638, 1.589, 1.411, 1.457, 0.397, 0.328, 0.242, 1.367])"
   ]
  },
  {
   "cell_type": "code",
   "execution_count": 5,
   "id": "706b9464",
   "metadata": {},
   "outputs": [
    {
     "data": {
      "text/plain": [
       "ShapiroResult(statistic=0.8199635744094849, pvalue=6.733238933520624e-06)"
      ]
     },
     "execution_count": 5,
     "metadata": {},
     "output_type": "execute_result"
    }
   ],
   "source": [
    "stats.shapiro(pu_238) # p < 0,01 - распределение отлично от нормального"
   ]
  },
  {
   "cell_type": "code",
   "execution_count": 7,
   "id": "2627ef58",
   "metadata": {},
   "outputs": [],
   "source": [
    "pu_239 = np.array([75.804, 75.515, 75.175, 78.872, 73.317, 79.116, 75.751, 75.326, 63.287, 59.553, 58.688, 58.758, 59.728, 59.544, 59.877, 61.182, 78.244, 78.166, 74.254, 79.840, 62.455, 73.189, 75.968, 75.957, 72.885,72.907, 72.919, 76.089, 70.129, 69.273, 69.147, 68.294, 71.076, 75.714, 76.150, 77.845, 62.382, 60.112, 60.519, 61.585, 61.332, 72.291, 73.451, 74.888, 60.507])"
   ]
  },
  {
   "cell_type": "code",
   "execution_count": 8,
   "id": "1cada7f8",
   "metadata": {},
   "outputs": [
    {
     "data": {
      "text/plain": [
       "ShapiroResult(statistic=0.8647032380104065, pvalue=8.951310883276165e-05)"
      ]
     },
     "execution_count": 8,
     "metadata": {},
     "output_type": "execute_result"
    }
   ],
   "source": [
    "stats.shapiro(pu_239)"
   ]
  },
  {
   "cell_type": "code",
   "execution_count": 12,
   "id": "d3e724c7",
   "metadata": {},
   "outputs": [],
   "source": [
    "pu_240 = np.array([21.204, 21.408, 21.668, 18.428, 20.223, 18.548, 21.162, 21.557, 24.493, 25.576, 25.719, 25.692, 25.146, 25.126, 25.128, 25.100, 18.488, 18.629, 21.515, 17.872, 24.656, 18.285, 20.794, 20.867, 21.718, 21.721, 21.713, 20.225, 18.573, 18.633, 18.640, 18.869, 18.122, 20.750, 20.345, 19.108, 22.754, 23.320, 23.128, 23.133, 23.239, 21.761, 21.429, 20.939, 23.603])"
   ]
  },
  {
   "cell_type": "code",
   "execution_count": 13,
   "id": "43618e9c",
   "metadata": {},
   "outputs": [
    {
     "data": {
      "text/plain": [
       "ShapiroResult(statistic=0.9316781759262085, pvalue=0.010755813680589199)"
      ]
     },
     "execution_count": 13,
     "metadata": {},
     "output_type": "execute_result"
    }
   ],
   "source": [
    "stats.shapiro(pu_240)"
   ]
  },
  {
   "cell_type": "code",
   "execution_count": 14,
   "id": "50de2704",
   "metadata": {},
   "outputs": [],
   "source": [
    "pu_241 = np.array([2.180, 2.240, 2.305, 1.906, 4.128, 1.690, 2.260, 2.282, 6.990, 8.027, 8.279, 8.261, 8.377, 8.569, 8.428, 7.802, 2.351, 2.365, 2.901, 1.674, 7.512, 5.597, 2.407, 2.341, 3.618, 3.601, 3.600, 2.556, 7.689, 8.300, 8.363, 8.826, 7.248, 2.488, 2.524, 2.275, 9.311, 9.972, 9.970, 9.339, 9.321, 3.836, 3.419, 2.875, 9.839])"
   ]
  },
  {
   "cell_type": "code",
   "execution_count": 15,
   "id": "9631aef2",
   "metadata": {},
   "outputs": [
    {
     "data": {
      "text/plain": [
       "ShapiroResult(statistic=0.8336212635040283, pvalue=1.4246789760363754e-05)"
      ]
     },
     "execution_count": 15,
     "metadata": {},
     "output_type": "execute_result"
    }
   ],
   "source": [
    "stats.shapiro(pu_241) "
   ]
  },
  {
   "cell_type": "code",
   "execution_count": 17,
   "id": "70d1c053",
   "metadata": {},
   "outputs": [
    {
     "data": {
      "text/plain": [
       "BartlettResult(statistic=88.22543503276441, pvalue=5.2682774223173065e-19)"
      ]
     },
     "execution_count": 17,
     "metadata": {},
     "output_type": "execute_result"
    }
   ],
   "source": [
    "stats.bartlett(pu_238, pu_239, pu_240,  pu_241) "
   ]
  },
  {
   "cell_type": "code",
   "execution_count": 19,
   "id": "aa06a4ef",
   "metadata": {
    "scrolled": true
   },
   "outputs": [
    {
     "data": {
      "text/plain": [
       "KruskalResult(statistic=151.04305995118958, pvalue=1.5694735252742072e-32)"
      ]
     },
     "execution_count": 19,
     "metadata": {},
     "output_type": "execute_result"
    }
   ],
   "source": [
    "stats.kruskal(pu_238, pu_239, pu_240,  pu_241) #для независимых групп, для зависимых - тест Фридмана"
   ]
  },
  {
   "cell_type": "code",
   "execution_count": 18,
   "id": "1861c26c",
   "metadata": {},
   "outputs": [
    {
     "name": "stdout",
     "output_type": "stream",
     "text": [
      "Help on function bartlett in module scipy.stats._morestats:\n",
      "\n",
      "bartlett(*samples)\n",
      "    Perform Bartlett's test for equal variances.\n",
      "    \n",
      "    Bartlett's test tests the null hypothesis that all input samples\n",
      "    are from populations with equal variances.  For samples\n",
      "    from significantly non-normal populations, Levene's test\n",
      "    `levene` is more robust.\n",
      "    \n",
      "    Parameters\n",
      "    ----------\n",
      "    sample1, sample2, ... : array_like\n",
      "        arrays of sample data.  Only 1d arrays are accepted, they may have\n",
      "        different lengths.\n",
      "    \n",
      "    Returns\n",
      "    -------\n",
      "    statistic : float\n",
      "        The test statistic.\n",
      "    pvalue : float\n",
      "        The p-value of the test.\n",
      "    \n",
      "    See Also\n",
      "    --------\n",
      "    fligner : A non-parametric test for the equality of k variances\n",
      "    levene : A robust parametric test for equality of k variances\n",
      "    \n",
      "    Notes\n",
      "    -----\n",
      "    Conover et al. (1981) examine many of the existing parametric and\n",
      "    nonparametric tests by extensive simulations and they conclude that the\n",
      "    tests proposed by Fligner and Killeen (1976) and Levene (1960) appear to be\n",
      "    superior in terms of robustness of departures from normality and power\n",
      "    ([3]_).\n",
      "    \n",
      "    References\n",
      "    ----------\n",
      "    .. [1]  https://www.itl.nist.gov/div898/handbook/eda/section3/eda357.htm\n",
      "    \n",
      "    .. [2]  Snedecor, George W. and Cochran, William G. (1989), Statistical\n",
      "              Methods, Eighth Edition, Iowa State University Press.\n",
      "    \n",
      "    .. [3] Park, C. and Lindsay, B. G. (1999). Robust Scale Estimation and\n",
      "           Hypothesis Testing based on Quadratic Inference Function. Technical\n",
      "           Report #99-03, Center for Likelihood Studies, Pennsylvania State\n",
      "           University.\n",
      "    \n",
      "    .. [4] Bartlett, M. S. (1937). Properties of Sufficiency and Statistical\n",
      "           Tests. Proceedings of the Royal Society of London. Series A,\n",
      "           Mathematical and Physical Sciences, Vol. 160, No.901, pp. 268-282.\n",
      "    \n",
      "    Examples\n",
      "    --------\n",
      "    Test whether or not the lists `a`, `b` and `c` come from populations\n",
      "    with equal variances.\n",
      "    \n",
      "    >>> from scipy.stats import bartlett\n",
      "    >>> a = [8.88, 9.12, 9.04, 8.98, 9.00, 9.08, 9.01, 8.85, 9.06, 8.99]\n",
      "    >>> b = [8.88, 8.95, 9.29, 9.44, 9.15, 9.58, 8.36, 9.18, 8.67, 9.05]\n",
      "    >>> c = [8.95, 9.12, 8.95, 8.85, 9.03, 8.84, 9.07, 8.98, 8.86, 8.98]\n",
      "    >>> stat, p = bartlett(a, b, c)\n",
      "    >>> p\n",
      "    1.1254782518834628e-05\n",
      "    \n",
      "    The very small p-value suggests that the populations do not have equal\n",
      "    variances.\n",
      "    \n",
      "    This is not surprising, given that the sample variance of `b` is much\n",
      "    larger than that of `a` and `c`:\n",
      "    \n",
      "    >>> [np.var(x, ddof=1) for x in [a, b, c]]\n",
      "    [0.007054444444444413, 0.13073888888888888, 0.008890000000000002]\n",
      "\n"
     ]
    }
   ],
   "source": [
    "help(stats.bartlett)"
   ]
  },
  {
   "cell_type": "code",
   "execution_count": 20,
   "id": "3f7a5150",
   "metadata": {},
   "outputs": [],
   "source": [
    "JJ_1=np.array([0.71, 0.63, 0.85, 0.44, 0.61, 0.69, 0.92, 0.55, 0.72, 0.77, 0.92, 0.60, 0.83, 0.80, 1.00, 0.77, 0.92, 1.00, 1.24, 1.00, 1.16 ])"
   ]
  },
  {
   "cell_type": "code",
   "execution_count": 21,
   "id": "01734257",
   "metadata": {},
   "outputs": [
    {
     "data": {
      "text/plain": [
       "ShapiroResult(statistic=0.9837694764137268, pvalue=0.9688350558280945)"
      ]
     },
     "execution_count": 21,
     "metadata": {},
     "output_type": "execute_result"
    }
   ],
   "source": [
    "stats.shapiro(JJ_1)"
   ]
  },
  {
   "cell_type": "code",
   "execution_count": 22,
   "id": "3397aca4",
   "metadata": {},
   "outputs": [],
   "source": [
    "JJ_2=np.array([1.30, 1.45, 1.25, 1.26, 1.38, 1.86, 1.56, 1.53, 1.59, 1.83, 1.86, 1.53, 2.07, 2.34, 2.25, 2.16, 2.43, 2.70, 2.25, 2.79, 3.42 ])"
   ]
  },
  {
   "cell_type": "code",
   "execution_count": 23,
   "id": "f2d11297",
   "metadata": {},
   "outputs": [
    {
     "data": {
      "text/plain": [
       "ShapiroResult(statistic=0.9252575635910034, pvalue=0.11057926714420319)"
      ]
     },
     "execution_count": 23,
     "metadata": {},
     "output_type": "execute_result"
    }
   ],
   "source": [
    "stats.shapiro(JJ_2)"
   ]
  },
  {
   "cell_type": "code",
   "execution_count": 24,
   "id": "daa1fdbe",
   "metadata": {},
   "outputs": [],
   "source": [
    "JJ_3=np.array([3.69, 3.60, 3.60, 4.32, 4.32, 4.05, 4.86, 5.04, 5.04, 4.41, 5.58, 5.85, 6.57, 5.31, 6.03, 6.39, 6.93, 5.85, 6.93, 7.74, 7.83])"
   ]
  },
  {
   "cell_type": "code",
   "execution_count": 25,
   "id": "6ff8c14b",
   "metadata": {},
   "outputs": [
    {
     "data": {
      "text/plain": [
       "ShapiroResult(statistic=0.9523218274116516, pvalue=0.37654614448547363)"
      ]
     },
     "execution_count": 25,
     "metadata": {},
     "output_type": "execute_result"
    }
   ],
   "source": [
    "stats.shapiro(JJ_3)"
   ]
  },
  {
   "cell_type": "code",
   "execution_count": 26,
   "id": "dba38afa",
   "metadata": {},
   "outputs": [],
   "source": [
    "JJ_4=np.array([6.12, 7.74, 8.91, 8.28, 6.84, 9.54, 10.26, 9.54, 8.73, 11.88, 12.06, 12.15, 8.91, 14.04, 12.96, 14.85, 9.99, 16.20, 14.67, 16.02, 11.61 ])"
   ]
  },
  {
   "cell_type": "code",
   "execution_count": 27,
   "id": "19777c41",
   "metadata": {},
   "outputs": [
    {
     "data": {
      "text/plain": [
       "ShapiroResult(statistic=0.9590807557106018, pvalue=0.49780404567718506)"
      ]
     },
     "execution_count": 27,
     "metadata": {},
     "output_type": "execute_result"
    }
   ],
   "source": [
    "stats.shapiro(JJ_4)"
   ]
  },
  {
   "cell_type": "code",
   "execution_count": 29,
   "id": "e159b378",
   "metadata": {},
   "outputs": [
    {
     "data": {
      "text/plain": [
       "BartlettResult(statistic=109.62893110687119, pvalue=1.3188378332498392e-23)"
      ]
     },
     "execution_count": 29,
     "metadata": {},
     "output_type": "execute_result"
    }
   ],
   "source": [
    "stats.bartlett(JJ_1, JJ_2, JJ_3,  JJ_4) "
   ]
  },
  {
   "cell_type": "code",
   "execution_count": 30,
   "id": "98ebf93b",
   "metadata": {},
   "outputs": [
    {
     "data": {
      "text/plain": [
       "F_onewayResult(statistic=162.03157448390618, pvalue=6.81307443530621e-34)"
      ]
     },
     "execution_count": 30,
     "metadata": {},
     "output_type": "execute_result"
    }
   ],
   "source": [
    "stats.f_oneway(JJ_1, JJ_2, JJ_3, JJ_4) #p < 0.01 отклоняем нулевую гипотезу"
   ]
  },
  {
   "cell_type": "code",
   "execution_count": 31,
   "id": "0a6567ea",
   "metadata": {},
   "outputs": [
    {
     "data": {
      "text/plain": [
       "KruskalResult(statistic=77.04853477998796, pvalue=1.318184789753617e-16)"
      ]
     },
     "execution_count": 31,
     "metadata": {},
     "output_type": "execute_result"
    }
   ],
   "source": [
    "stats.kruskal(JJ_1, JJ_2, JJ_3, JJ_4) #p < 0.01 отклоняем нулевую гипотезу"
   ]
  },
  {
   "cell_type": "code",
   "execution_count": 32,
   "id": "690c9e9c",
   "metadata": {},
   "outputs": [
    {
     "data": {
      "text/plain": [
       "21"
      ]
     },
     "execution_count": 32,
     "metadata": {},
     "output_type": "execute_result"
    }
   ],
   "source": [
    "len(JJ_1)"
   ]
  },
  {
   "cell_type": "code",
   "execution_count": 34,
   "id": "e21f4b82",
   "metadata": {},
   "outputs": [],
   "source": [
    "JJ = np.array([0.71, 0.63, 0.85, 0.44, 0.61, 0.69, 0.92, 0.55, 0.72, 0.77, 0.92, 0.60, 0.83, 0.80, 1.00, 0.77, 0.92, 1.00, 1.24, 1.00, 1.16,1.30, 1.45, 1.25, 1.26, 1.38, 1.86, 1.56, 1.53, 1.59, 1.83, 1.86, 1.53, 2.07, 2.34, 2.25, 2.16, 2.43, 2.70, 2.25, 2.79, 3.42, 3.69, 3.60, 3.60, 4.32, 4.32, 4.05, 4.86, 5.04, 5.04, 4.41, 5.58, 5.85, 6.57, 5.31, 6.03, 6.39, 6.93, 5.85, 6.93, 7.74, 7.83, 6.12, 7.74, 8.91, 8.28, 6.84, 9.54, 10.26, 9.54, 8.73, 11.88, 12.06, 12.15, 8.91, 14.04, 12.96, 14.85, 9.99, 16.20, 14.67, 16.02, 11.61])"
   ]
  },
  {
   "cell_type": "code",
   "execution_count": 35,
   "id": "35ff5078",
   "metadata": {},
   "outputs": [],
   "source": [
    "df=pd.DataFrame({\"score\":JJ,\n",
    "\"group\":np.repeat([\"JJ_1\",\"JJ_2\",\"JJ_3\",\"JJ_4\"], repeats =21)})\n"
   ]
  },
  {
   "cell_type": "code",
   "execution_count": 36,
   "id": "398ae975",
   "metadata": {},
   "outputs": [],
   "source": [
    "tukey=pairwise_tukeyhsd(df[\"score\"], df[\"group\"], alpha =0.05)"
   ]
  },
  {
   "cell_type": "code",
   "execution_count": 37,
   "id": "132ced40",
   "metadata": {},
   "outputs": [
    {
     "name": "stdout",
     "output_type": "stream",
     "text": [
      "Multiple Comparison of Means - Tukey HSD, FWER=0.05 \n",
      "====================================================\n",
      "group1 group2 meandiff p-adj   lower   upper  reject\n",
      "----------------------------------------------------\n",
      "  JJ_1   JJ_2   1.1276 0.1282 -0.2087   2.464  False\n",
      "  JJ_1   JJ_3     4.61    0.0  3.2737  5.9463   True\n",
      "  JJ_1   JJ_4  10.1986    0.0  8.8622 11.5349   True\n",
      "  JJ_2   JJ_3   3.4824    0.0   2.146  4.8187   True\n",
      "  JJ_2   JJ_4    9.071    0.0  7.7346 10.4073   True\n",
      "  JJ_3   JJ_4   5.5886    0.0  4.2522  6.9249   True\n",
      "----------------------------------------------------\n"
     ]
    }
   ],
   "source": [
    "print(tukey)"
   ]
  },
  {
   "cell_type": "code",
   "execution_count": 38,
   "id": "d313c204",
   "metadata": {},
   "outputs": [],
   "source": [
    "before = np.array([92.8 , 95.6, 92.1, 100.6, 96.2, 92.1, 96.7, 97.6, 97.0, 93.9])"
   ]
  },
  {
   "cell_type": "code",
   "execution_count": 39,
   "id": "b1c9f3ed",
   "metadata": {},
   "outputs": [],
   "source": [
    "after = np.array([87.1, 84.1, 81.3, 77.0, 86.0, 82.9, 83.0, 85.5, 85.2, 84.6])"
   ]
  },
  {
   "cell_type": "code",
   "execution_count": 40,
   "id": "0d9a6ed0",
   "metadata": {},
   "outputs": [
    {
     "data": {
      "text/plain": [
       "Ttest_relResult(statistic=7.972831441034037, pvalue=0.9999886277862766)"
      ]
     },
     "execution_count": 40,
     "metadata": {},
     "output_type": "execute_result"
    }
   ],
   "source": [
    " stats.ttest_rel(before,after, alternative = \"less\") #втророй массив меньше чем первый"
   ]
  },
  {
   "cell_type": "code",
   "execution_count": 42,
   "id": "629f9ecf",
   "metadata": {
    "scrolled": true
   },
   "outputs": [
    {
     "data": {
      "text/plain": [
       "Ttest_relResult(statistic=7.972831441034037, pvalue=1.1372213723408018e-05)"
      ]
     },
     "execution_count": 42,
     "metadata": {},
     "output_type": "execute_result"
    }
   ],
   "source": [
    "stats.ttest_rel(before,after, alternative = 'greater') "
   ]
  },
  {
   "cell_type": "code",
   "execution_count": 43,
   "id": "d43a9fdb",
   "metadata": {},
   "outputs": [
    {
     "data": {
      "text/plain": [
       "Ttest_relResult(statistic=7.972831441034037, pvalue=2.2744427446816035e-05)"
      ]
     },
     "execution_count": 43,
     "metadata": {},
     "output_type": "execute_result"
    }
   ],
   "source": [
    "stats.ttest_rel(before,after)"
   ]
  },
  {
   "cell_type": "code",
   "execution_count": 55,
   "id": "daddc87f",
   "metadata": {},
   "outputs": [
    {
     "name": "stdout",
     "output_type": "stream",
     "text": [
      "1.959963984540054\n",
      "0.06349803146555018\n"
     ]
    }
   ],
   "source": [
    "delta = 0.75 - 0.69\n",
    "z = stats.norm.ppf(0.975)\n",
    "print(z)\n",
    "p = 144/200\n",
    "se = np.sqrt(p*(1-p )*(1/100 + 1/100))\n",
    "print(se)"
   ]
  },
  {
   "cell_type": "code",
   "execution_count": 56,
   "id": "8a8151bf",
   "metadata": {
    "scrolled": false
   },
   "outputs": [
    {
     "name": "stdout",
     "output_type": "stream",
     "text": [
      "0.1844538547616695\n",
      "-0.0644538547616694\n"
     ]
    }
   ],
   "source": [
    "print(delta + se*z)\n",
    "print(delta - se*z) #проходит через ноль - статистических различий нет"
   ]
  },
  {
   "cell_type": "code",
   "execution_count": null,
   "id": "20e1f094",
   "metadata": {},
   "outputs": [],
   "source": []
  }
 ],
 "metadata": {
  "kernelspec": {
   "display_name": "Python 3 (ipykernel)",
   "language": "python",
   "name": "python3"
  },
  "language_info": {
   "codemirror_mode": {
    "name": "ipython",
    "version": 3
   },
   "file_extension": ".py",
   "mimetype": "text/x-python",
   "name": "python",
   "nbconvert_exporter": "python",
   "pygments_lexer": "ipython3",
   "version": "3.9.13"
  }
 },
 "nbformat": 4,
 "nbformat_minor": 5
}
