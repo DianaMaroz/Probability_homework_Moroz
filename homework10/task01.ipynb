{
 "cells": [
  {
   "cell_type": "code",
   "execution_count": 2,
   "id": "f6081415",
   "metadata": {},
   "outputs": [],
   "source": [
    "import matplotlib.pyplot as plt\n",
    "import numpy as np\n",
    "from scipy import stats\n",
    "from statsmodels.stats.multicomp import pairwise_tukeyhsd \n",
    "import pandas as pd"
   ]
  },
  {
   "cell_type": "code",
   "execution_count": 3,
   "id": "58677b7b",
   "metadata": {},
   "outputs": [],
   "source": [
    "football_players = np.array([173, 175, 180, 178, 177, 185, 183, 182])"
   ]
  },
  {
   "cell_type": "code",
   "execution_count": 4,
   "id": "47b9e34a",
   "metadata": {},
   "outputs": [
    {
     "data": {
      "text/plain": [
       "ShapiroResult(statistic=0.9775082468986511, pvalue=0.9495404362678528)"
      ]
     },
     "execution_count": 4,
     "metadata": {},
     "output_type": "execute_result"
    }
   ],
   "source": [
    "stats.shapiro(football_players) # p > 0,05 - распределение нормальноe"
   ]
  },
  {
   "cell_type": "code",
   "execution_count": 5,
   "id": "2271839a",
   "metadata": {},
   "outputs": [],
   "source": [
    "hockey_players = np.array([177, 179, 180, 188, 177, 172, 171, 184, 180])"
   ]
  },
  {
   "cell_type": "code",
   "execution_count": 6,
   "id": "f4232b03",
   "metadata": {},
   "outputs": [
    {
     "data": {
      "text/plain": [
       "ShapiroResult(statistic=0.9579196572303772, pvalue=0.7763139009475708)"
      ]
     },
     "execution_count": 6,
     "metadata": {},
     "output_type": "execute_result"
    }
   ],
   "source": [
    "stats.shapiro(hockey_players) # p > 0,05 - распределение нормальноe"
   ]
  },
  {
   "cell_type": "code",
   "execution_count": 7,
   "id": "0bc58322",
   "metadata": {},
   "outputs": [],
   "source": [
    "weightlifters = np.array([172, 173, 169, 177, 166, 180, 178, 177, 172, 166, 170])"
   ]
  },
  {
   "cell_type": "code",
   "execution_count": 8,
   "id": "173449c7",
   "metadata": {},
   "outputs": [
    {
     "data": {
      "text/plain": [
       "ShapiroResult(statistic=0.9386808276176453, pvalue=0.5051165223121643)"
      ]
     },
     "execution_count": 8,
     "metadata": {},
     "output_type": "execute_result"
    }
   ],
   "source": [
    "stats.shapiro(weightlifters) # p > 0,05 - распределение нормальноe"
   ]
  },
  {
   "cell_type": "code",
   "execution_count": 11,
   "id": "13214fd5",
   "metadata": {},
   "outputs": [
    {
     "data": {
      "text/plain": [
       "8"
      ]
     },
     "execution_count": 11,
     "metadata": {},
     "output_type": "execute_result"
    }
   ],
   "source": [
    "n_f =len(football_players)\n",
    "n_f"
   ]
  },
  {
   "cell_type": "code",
   "execution_count": 12,
   "id": "652fdd7c",
   "metadata": {},
   "outputs": [
    {
     "data": {
      "text/plain": [
       "9"
      ]
     },
     "execution_count": 12,
     "metadata": {},
     "output_type": "execute_result"
    }
   ],
   "source": [
    "n_h = len(hockey_players)\n",
    "n_h"
   ]
  },
  {
   "cell_type": "code",
   "execution_count": 13,
   "id": "bd84289b",
   "metadata": {},
   "outputs": [
    {
     "data": {
      "text/plain": [
       "11"
      ]
     },
     "execution_count": 13,
     "metadata": {},
     "output_type": "execute_result"
    }
   ],
   "source": [
    "n_w = len(weightlifters)\n",
    "n_w "
   ]
  },
  {
   "cell_type": "code",
   "execution_count": 14,
   "id": "41ba1bf5",
   "metadata": {},
   "outputs": [
    {
     "data": {
      "text/plain": [
       "BartlettResult(statistic=0.4640521043406442, pvalue=0.7929254656083131)"
      ]
     },
     "execution_count": 14,
     "metadata": {},
     "output_type": "execute_result"
    }
   ],
   "source": [
    "#проверяем на различия дисперсии p-value >0.05 - нулевая гипотеза, можно проводить дисперсионный анализ\n",
    "stats.bartlett(football_players, hockey_players,  weightlifters) "
   ]
  },
  {
   "cell_type": "code",
   "execution_count": 15,
   "id": "30c766ba",
   "metadata": {},
   "outputs": [
    {
     "data": {
      "text/plain": [
       "F_onewayResult(statistic=5.500053450812596, pvalue=0.010482206918698694)"
      ]
     },
     "execution_count": 15,
     "metadata": {},
     "output_type": "execute_result"
    }
   ],
   "source": [
    "stats.f_oneway(football_players, hockey_players,  weightlifters) #p < 0.05 отклоняем нулевую гипотезу: различия есть"
   ]
  },
  {
   "cell_type": "code",
   "execution_count": 18,
   "id": "e8099e85",
   "metadata": {},
   "outputs": [
    {
     "data": {
      "text/plain": [
       "11"
      ]
     },
     "execution_count": 18,
     "metadata": {},
     "output_type": "execute_result"
    }
   ],
   "source": [
    "#для уравнивания количества данных в выборках к первой и второй добавляем средние значения (для каждой выборки)\n",
    "mean_f = np.mean(football_players)\n",
    "corrected_football_players =  np.array([173, 175, 180, 178, 177, 185, 183, 182, mean_f, mean_f, mean_f])\n",
    "len(corrected_football_players)"
   ]
  },
  {
   "cell_type": "code",
   "execution_count": 21,
   "id": "e3be31e4",
   "metadata": {},
   "outputs": [
    {
     "data": {
      "text/plain": [
       "11"
      ]
     },
     "execution_count": 21,
     "metadata": {},
     "output_type": "execute_result"
    }
   ],
   "source": [
    "mean_h = np.mean(hockey_players)\n",
    "corrected_hockey_players =  np.array([177, 179, 180, 188, 177, 172, 171, 184, 180, mean_h, mean_h])\n",
    "len(corrected_hockey_players)"
   ]
  },
  {
   "cell_type": "code",
   "execution_count": 23,
   "id": "84b552f3",
   "metadata": {},
   "outputs": [],
   "source": [
    "sportmen = np.hstack([corrected_football_players, corrected_hockey_players, weightlifters])\n"
   ]
  },
  {
   "cell_type": "code",
   "execution_count": 24,
   "id": "e333f809",
   "metadata": {},
   "outputs": [],
   "source": [
    "df=pd.DataFrame({\"score\":sportmen,\n",
    "\"group\":np.repeat([\"football_players\",\"hockey_players\",\"weightlifters\"], repeats =11)})"
   ]
  },
  {
   "cell_type": "code",
   "execution_count": 25,
   "id": "baf0c90f",
   "metadata": {},
   "outputs": [
    {
     "name": "stdout",
     "output_type": "stream",
     "text": [
      "          Multiple Comparison of Means - Tukey HSD, FWER=0.05          \n",
      "=======================================================================\n",
      "     group1          group2     meandiff p-adj   lower    upper  reject\n",
      "-----------------------------------------------------------------------\n",
      "football_players hockey_players  -0.4583 0.9675  -5.0687   4.152  False\n",
      "football_players  weightlifters  -6.3977  0.005 -11.0081 -1.7874   True\n",
      "  hockey_players  weightlifters  -5.9394 0.0094 -10.5497 -1.3291   True\n",
      "-----------------------------------------------------------------------\n"
     ]
    }
   ],
   "source": [
    "tukey=pairwise_tukeyhsd(df[\"score\"], df[\"group\"], alpha =0.05)\n",
    "print(tukey)"
   ]
  },
  {
   "cell_type": "code",
   "execution_count": 27,
   "id": "9179fd9c",
   "metadata": {
    "scrolled": true
   },
   "outputs": [
    {
     "name": "stdout",
     "output_type": "stream",
     "text": [
      "Help on function pairwise_tukeyhsd in module statsmodels.stats.multicomp:\n",
      "\n",
      "pairwise_tukeyhsd(endog, groups, alpha=0.05)\n",
      "    Calculate all pairwise comparisons with TukeyHSD confidence intervals\n",
      "    \n",
      "    Parameters\n",
      "    ----------\n",
      "    endog : ndarray, float, 1d\n",
      "        response variable\n",
      "    groups : ndarray, 1d\n",
      "        array with groups, can be string or integers\n",
      "    alpha : float\n",
      "        significance level for the test\n",
      "    \n",
      "    Returns\n",
      "    -------\n",
      "    results : TukeyHSDResults instance\n",
      "        A results class containing relevant data and some post-hoc\n",
      "        calculations, including adjusted p-value\n",
      "    \n",
      "    Notes\n",
      "    -----\n",
      "    This is just a wrapper around tukeyhsd method of MultiComparison\n",
      "    \n",
      "    See Also\n",
      "    --------\n",
      "    MultiComparison\n",
      "    tukeyhsd\n",
      "    statsmodels.sandbox.stats.multicomp.TukeyHSDResults\n",
      "\n"
     ]
    }
   ],
   "source": [
    "help(pairwise_tukeyhsd)"
   ]
  },
  {
   "cell_type": "code",
   "execution_count": null,
   "id": "2b00274f",
   "metadata": {},
   "outputs": [],
   "source": []
  }
 ],
 "metadata": {
  "kernelspec": {
   "display_name": "Python 3 (ipykernel)",
   "language": "python",
   "name": "python3"
  },
  "language_info": {
   "codemirror_mode": {
    "name": "ipython",
    "version": 3
   },
   "file_extension": ".py",
   "mimetype": "text/x-python",
   "name": "python",
   "nbconvert_exporter": "python",
   "pygments_lexer": "ipython3",
   "version": "3.9.13"
  }
 },
 "nbformat": 4,
 "nbformat_minor": 5
}
